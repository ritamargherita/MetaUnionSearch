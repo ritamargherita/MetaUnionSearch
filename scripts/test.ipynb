{
 "cells": [
  {
   "cell_type": "code",
   "execution_count": 1,
   "metadata": {},
   "outputs": [],
   "source": [
    "import os"
   ]
  },
  {
   "cell_type": "code",
   "execution_count": 2,
   "metadata": {},
   "outputs": [],
   "source": [
    "import pandas"
   ]
  },
  {
   "cell_type": "code",
   "execution_count": null,
   "metadata": {},
   "outputs": [],
   "source": [
    "def read_csv(input_data_folder):\n",
    "    \"\"\"\n",
    "    \"\"\"\n",
    "\n",
    "    limit = 1\n",
    "    count = 0\n",
    "\n",
    "    for file_name in os.listdir(input_data_folder):\n",
    "        if file_name.endswith('.csv'):\n",
    "            file_path = os.path.join(input_data_folder, file_name)\n",
    "            df = pd.read_csv(file_path)\n",
    "            print(f'Opened file: {file_name}')\n",
    "            print(df.head())\n",
    "            \n",
    "            count += 1\n",
    "            if count >= limit:\n",
    "                break"
   ]
  },
  {
   "cell_type": "code",
   "execution_count": null,
   "metadata": {},
   "outputs": [],
   "source": [
    "if __name__ == '__main__':\n",
    "    input_data_folder = ''\n",
    "    read_csv(input_data_folder)"
   ]
  }
 ],
 "metadata": {
  "kernelspec": {
   "display_name": "Python 3 (ipykernel)",
   "language": "python",
   "name": "python3"
  },
  "language_info": {
   "codemirror_mode": {
    "name": "ipython",
    "version": 3
   },
   "file_extension": ".py",
   "mimetype": "text/x-python",
   "name": "python",
   "nbconvert_exporter": "python",
   "pygments_lexer": "ipython3",
   "version": "3.10.8"
  }
 },
 "nbformat": 4,
 "nbformat_minor": 2
}
