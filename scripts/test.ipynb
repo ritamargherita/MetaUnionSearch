{
 "cells": [
  {
   "cell_type": "code",
   "execution_count": 1,
   "metadata": {},
   "outputs": [],
   "source": [
    "import pandas as pd"
   ]
  },
  {
   "cell_type": "code",
   "execution_count": 7,
   "metadata": {},
   "outputs": [],
   "source": [
    "input_csv = \"../results/eval/simple/comparison_gt.csv\"\n",
    "output_csv = \"../results/eval/simple/similarities_with_predicted_unionability.csv\""
   ]
  },
  {
   "cell_type": "code",
   "execution_count": 13,
   "metadata": {},
   "outputs": [],
   "source": [
    "df_input = pd.read_csv(input_csv)\n",
    "df_input['predicted_unionable'] = df_input['score'].apply(lambda x: 1 if x>= 0.639 else 0) #remember to change the threshold\n",
    "df_input.to_csv(output_csv, index=False)"
   ]
  },
  {
   "cell_type": "code",
   "execution_count": 14,
   "metadata": {},
   "outputs": [
    {
     "name": "stdout",
     "output_type": "stream",
     "text": [
      "Accuracy: 68.83%\n",
      "Accuracy for '0' predictions: 53.67%\n",
      "Accuracy for '1' predictions: 84.00%\n"
     ]
    }
   ],
   "source": [
    "df_output = pd.read_csv(output_csv)\n",
    "\n",
    "correct_predictions = (df_output['predicted_unionable'] == df_output['unionable']).sum()\n",
    "total_predictions = len(df_output)\n",
    "overall_accuracy = correct_predictions / total_predictions\n",
    "print(f\"Accuracy: {overall_accuracy:.2%}\") \n",
    "\n",
    "zero_predictions = df_output[df_output['unionable'] == 0]\n",
    "correct_zero_predictions = (zero_predictions['predicted_unionable'] == zero_predictions['unionable']).sum()\n",
    "zero_accuracy = correct_zero_predictions / len(zero_predictions) if len(zero_predictions) > 0 else 0\n",
    "print(f\"Accuracy for '0' predictions: {zero_accuracy:.2%}\")\n",
    "\n",
    "one_predictions = df_output[df_output['unionable'] == 1]\n",
    "correct_one_predictions = (one_predictions['predicted_unionable'] == one_predictions['unionable']).sum()\n",
    "one_accuracy = correct_one_predictions / len(one_predictions) if len(one_predictions) > 0 else 0\n",
    "print(f\"Accuracy for '1' predictions: {one_accuracy:.2%}\")\n"
   ]
  },
  {
   "cell_type": "code",
   "execution_count": 15,
   "metadata": {},
   "outputs": [
    {
     "name": "stdout",
     "output_type": "stream",
     "text": [
      "Class '1' - Precision: 64.45%, Recall: 84.00%, F1-Score: 72.94%\n",
      "Class '0' - Precision: 77.03%, Recall: 53.67%, F1-Score: 63.26%\n"
     ]
    }
   ],
   "source": [
    "tp = ((df_output['predicted_unionable'] == 1) & (df_output['unionable'] == 1)).sum()\n",
    "tn = ((df_output['predicted_unionable'] == 0) & (df_output['unionable'] == 0)).sum()\n",
    "fp = ((df_output['predicted_unionable'] == 1) & (df_output['unionable'] == 0)).sum()\n",
    "fn = ((df_output['predicted_unionable'] == 0) & (df_output['unionable'] == 1)).sum()\n",
    "\n",
    "precision_1 = tp / (tp + fp) if (tp + fp) > 0 else 0\n",
    "recall_1 = tp / (tp + fn) if (tp + fn) > 0 else 0\n",
    "f1_1 = 2 * (precision_1 * recall_1) / (precision_1 + recall_1) if (precision_1 + recall_1) > 0 else 0\n",
    "\n",
    "precision_0 = tn / (tn + fn) if (tn + fn) > 0 else 0\n",
    "recall_0 = tn / (tn + fp) if (tn + fp) > 0 else 0\n",
    "f1_0 = 2 * (precision_0 * recall_0) / (precision_0 + recall_0) if (precision_0 + recall_0) > 0 else 0\n",
    "\n",
    "print(f\"Class '1' - Precision: {precision_1:.2%}, Recall: {recall_1:.2%}, F1-Score: {f1_1:.2%}\")\n",
    "print(f\"Class '0' - Precision: {precision_0:.2%}, Recall: {recall_0:.2%}, F1-Score: {f1_0:.2%}\")"
   ]
  },
  {
   "cell_type": "code",
   "execution_count": null,
   "metadata": {},
   "outputs": [],
   "source": []
  },
  {
   "cell_type": "code",
   "execution_count": null,
   "metadata": {},
   "outputs": [],
   "source": []
  }
 ],
 "metadata": {
  "kernelspec": {
   "display_name": "Python 3",
   "language": "python",
   "name": "python3"
  },
  "language_info": {
   "codemirror_mode": {
    "name": "ipython",
    "version": 3
   },
   "file_extension": ".py",
   "mimetype": "text/x-python",
   "name": "python",
   "nbconvert_exporter": "python",
   "pygments_lexer": "ipython3",
   "version": "3.11.10"
  }
 },
 "nbformat": 4,
 "nbformat_minor": 2
}
