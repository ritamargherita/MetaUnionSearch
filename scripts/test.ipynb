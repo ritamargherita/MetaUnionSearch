{
 "cells": [
  {
   "cell_type": "code",
   "execution_count": 1,
   "metadata": {},
   "outputs": [],
   "source": [
    "import os\n",
    "import re\n",
    "import sys\n",
    "import time\n",
    "import json\n",
    "import numpy as np\n",
    "import csv\n",
    "\n",
    "from dotenv import load_dotenv\n",
    "\n",
    "from openai import OpenAI\n",
    "from sentence_transformers import SentenceTransformer, util\n",
    "import torch"
   ]
  },
  {
   "cell_type": "code",
   "execution_count": 2,
   "metadata": {},
   "outputs": [],
   "source": [
    "prompt = \"\"\"\n",
    "Map each of the following column headers to one of the DBpedia property provided below.\n",
    "\n",
    "Return ONLY the response, no other text.\n",
    "### Response Format ###\n",
    "{{\n",
    "    \"column_header\": \"<the original column header>\",\n",
    "    \"dbpedia_property_id\": \"<the DBpedia property ID>\"\n",
    "}}\n",
    "\n",
    "### Column Headers ###\n",
    "{column_headers_list}\n",
    "\n",
    "### DBpedia Properties ###\n",
    "{dbpedia_properties}\n",
    "\"\"\""
   ]
  },
  {
   "cell_type": "code",
   "execution_count": 3,
   "metadata": {},
   "outputs": [],
   "source": [
    "def gpt_client(OPENAI_API_KEY):\n",
    "    client = OpenAI(api_key=OPENAI_API_KEY)\n",
    "    return client"
   ]
  },
  {
   "cell_type": "code",
   "execution_count": 4,
   "metadata": {},
   "outputs": [],
   "source": [
    "def load_dbpedia_properties(dbpedia_file_path):\n",
    "    with open(dbpedia_file_path, 'r') as file:\n",
    "        return [json.loads(line) for line in file]"
   ]
  },
  {
   "cell_type": "code",
   "execution_count": 5,
   "metadata": {},
   "outputs": [],
   "source": [
    "def make_property_embeddings(dbpedia_properties, model):\n",
    "        property_texts = [\n",
    "            f\"{prop['label']} - {prop['desc']}\" for prop in dbpedia_properties\n",
    "        ]\n",
    "        property_embeddings = model.encode(property_texts, convert_to_tensor=True)    \n",
    "        return property_embeddings"
   ]
  },
  {
   "cell_type": "code",
   "execution_count": 6,
   "metadata": {},
   "outputs": [],
   "source": [
    "def make_header_embeddings(column_headers, model):\n",
    "    header_embeddings = model.encode(column_headers, convert_to_tensor=True)\n",
    "    return header_embeddings"
   ]
  },
  {
   "cell_type": "code",
   "execution_count": 7,
   "metadata": {},
   "outputs": [],
   "source": [
    "def get_k_top_properties(column_headers, header_embeddings, property_embeddings, top_k, dbpedia_properties):\n",
    "    top_k_properties = []\n",
    "    for i, header in enumerate(column_headers):\n",
    "        similarities = util.pytorch_cos_sim(header_embeddings[i], property_embeddings)[0]\n",
    "        top_k_indices = torch.topk(similarities, k=top_k).indices\n",
    "        for idx in top_k_indices:\n",
    "            top_k_properties.append(dbpedia_properties[idx.item()])\n",
    "    return top_k_properties"
   ]
  },
  {
   "cell_type": "code",
   "execution_count": 8,
   "metadata": {},
   "outputs": [],
   "source": [
    "def get_response(client, updated_prompt):\n",
    "    completion = client.chat.completions.create(\n",
    "        model=\"gpt-4o-mini\",\n",
    "        messages=[\n",
    "            {\n",
    "                \"role\": \"system\", \n",
    "                \"content\": \"You are a helpful assistant.\"\n",
    "            },\n",
    "            {\n",
    "                \"role\": \"user\",\n",
    "                \"content\": updated_prompt\n",
    "            }\n",
    "        ]\n",
    "    )\n",
    "    response = completion.choices[0].message.content\n",
    "    return response"
   ]
  },
  {
   "cell_type": "code",
   "execution_count": null,
   "metadata": {},
   "outputs": [],
   "source": [
    "def main(OPENAI_API_KEY, dbpedia_file_path, candidate_folder, query_folder, candidate_output_folder, query_output_folder, top_k, model):\n",
    "    \n",
    "    client = gpt_client(OPENAI_API_KEY)\n",
    "\n",
    "    query_responses = {}\n",
    "    for query_file in os.listdir(query_folder):\n",
    "        file_path = os.path.join(query_folder, query_file)\n",
    "        query_responses = {}\n",
    "        with open(file_path, 'r') as infile:\n",
    "            reader = csv.reader(infile, delimiter=';')\n",
    "            column_headers = next(reader)[1:]\n",
    "\n",
    "            dbpedia_properties = load_dbpedia_properties(dbpedia_file_path)\n",
    "            property_embeddings = make_property_embeddings(dbpedia_properties, model)\n",
    "            header_embeddings = make_header_embeddings(column_headers, model)\n",
    "            top_k_properties = get_k_top_properties(column_headers, header_embeddings, property_embeddings, top_k, dbpedia_properties)\n",
    "\n",
    "            updated_prompt = prompt.format(column_headers_list=column_headers, dbpedia_properties=top_k_properties)\n",
    "            \n",
    "            response = get_response(client, updated_prompt)\n",
    "            query_responses[query_file] = response\n",
    "        query_output_file = os.path.join(query_output_folder, query_file)\n",
    "        with open(query_output_file, \"w\") as file:\n",
    "            json.dump(query_responses, file)\n",
    "    return\n"
   ]
  },
  {
   "cell_type": "code",
   "execution_count": 13,
   "metadata": {},
   "outputs": [],
   "source": [
    "if __name__ == \"__main__\":\n",
    "    \n",
    "    load_dotenv()\n",
    "\n",
    "    OPENAI_API_KEY = os.getenv('OPENAI_API_KEY')\n",
    "    dbpedia_file_path = \"../data/dbpedia.json\"\n",
    "    candidate_folder = \"../alt-gen/data/ugen_v2/datalake\"\n",
    "    query_folder = \"../alt-gen/data/ugen_v2/query\"\n",
    "    candidate_output_folder = \"../data/enrichments_dbpedia/datalake\"\n",
    "    query_output_folder = \"../data/enrichments_dbpedia/query\"\n",
    "    top_k = 5\n",
    "\n",
    "    model = SentenceTransformer('all-MiniLM-L6-v2') \n",
    "\n",
    "    main(OPENAI_API_KEY, dbpedia_file_path, candidate_folder, query_folder, candidate_output_folder, query_output_folder, top_k, model)"
   ]
  }
 ],
 "metadata": {
  "kernelspec": {
   "display_name": "base",
   "language": "python",
   "name": "python3"
  },
  "language_info": {
   "codemirror_mode": {
    "name": "ipython",
    "version": 3
   },
   "file_extension": ".py",
   "mimetype": "text/x-python",
   "name": "python",
   "nbconvert_exporter": "python",
   "pygments_lexer": "ipython3",
   "version": "3.12.2"
  }
 },
 "nbformat": 4,
 "nbformat_minor": 2
}
