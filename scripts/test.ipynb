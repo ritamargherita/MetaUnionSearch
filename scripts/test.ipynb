{
 "cells": [
  {
   "cell_type": "code",
   "execution_count": 2,
   "metadata": {},
   "outputs": [],
   "source": [
    "import random"
   ]
  },
  {
   "cell_type": "code",
   "execution_count": 11,
   "metadata": {},
   "outputs": [],
   "source": [
    "def select_random_topics(file_path, random_seed):\n",
    "    random.seed(random_seed)\n",
    "    with open(file_path, 'r') as file:\n",
    "        lines = file.readlines()\n",
    "    header = lines[0]\n",
    "    topics = lines[1:]\n",
    "    num_to_select = int(len(topics) * 0.4)\n",
    "    topics_test_set = random.sample(topics, num_to_select)\n",
    "    topics_eval_set = [topic for topic in topics if topic not in topics_test_set]\n",
    "    return header, topics_test_set, topics_eval_set"
   ]
  },
  {
   "cell_type": "code",
   "execution_count": 12,
   "metadata": {},
   "outputs": [],
   "source": [
    "def save_topics(header, topics, output_path):\n",
    "    with open(output_path, 'w') as file:\n",
    "        file.write(header)\n",
    "        file.writelines(topics)\n",
    "    return"
   ]
  },
  {
   "cell_type": "code",
   "execution_count": 13,
   "metadata": {},
   "outputs": [],
   "source": [
    "input_file = '../alt-gen/data/topics_50.txt'\n",
    "test_output_file = '../data/topics_test_set.txt'\n",
    "eval_output_file = '../data/topics_eval_set.txt'\n",
    "random_seed = 42\n",
    "\n",
    "header, topics_test_set, topics_eval_set = select_random_topics(input_file, random_seed)\n",
    "\n",
    "save_topics(header, topics_test_set, test_output_file)\n",
    "save_topics(header, topics_eval_set, eval_output_file)"
   ]
  },
  {
   "cell_type": "code",
   "execution_count": null,
   "metadata": {},
   "outputs": [],
   "source": []
  }
 ],
 "metadata": {
  "kernelspec": {
   "display_name": "Python 3",
   "language": "python",
   "name": "python3"
  },
  "language_info": {
   "codemirror_mode": {
    "name": "ipython",
    "version": 3
   },
   "file_extension": ".py",
   "mimetype": "text/x-python",
   "name": "python",
   "nbconvert_exporter": "python",
   "pygments_lexer": "ipython3",
   "version": "3.11.10"
  }
 },
 "nbformat": 4,
 "nbformat_minor": 2
}
